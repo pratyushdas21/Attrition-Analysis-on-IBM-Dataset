{
  "nbformat": 4,
  "nbformat_minor": 0,
  "metadata": {
    "colab": {
      "name": "Attrition_1.ipynb",
      "provenance": [],
      "collapsed_sections": []
    },
    "kernelspec": {
      "name": "python3",
      "display_name": "Python 3"
    }
  },
  "cells": [
    {
      "cell_type": "markdown",
      "metadata": {
        "id": "PL1ywOd7xFzR",
        "colab_type": "text"
      },
      "source": [
        "**Predict Attrition Values for the given data set of employees**"
      ]
    },
    {
      "cell_type": "markdown",
      "metadata": {
        "id": "UQsJfawxAv1W",
        "colab_type": "text"
      },
      "source": [
        ""
      ]
    },
    {
      "cell_type": "code",
      "metadata": {
        "id": "_KUc1QhtCwXp",
        "colab_type": "code",
        "colab": {}
      },
      "source": [
        "#This fuction is for the plotly package to work\n",
        "\n",
        "def configure_plotly_browser_state():\n",
        "  import IPython\n",
        "  display(IPython.core.display.HTML('''\n",
        "        <script src=\"/static/components/requirejs/require.js\"></script>\n",
        "        <script>\n",
        "          requirejs.config({\n",
        "            paths: {\n",
        "              base: '/static/base',\n",
        "              plotly: 'https://cdn.plot.ly/plotly-latest.min.js?noext',\n",
        "            },\n",
        "          });\n",
        "        </script>\n",
        "        '''))"
      ],
      "execution_count": null,
      "outputs": []
    },
    {
      "cell_type": "markdown",
      "metadata": {
        "id": "4khtGxd6yIVX",
        "colab_type": "text"
      },
      "source": [
        "Importing Python libraries"
      ]
    },
    {
      "cell_type": "code",
      "metadata": {
        "id": "BzZb2hdjCy6x",
        "colab_type": "code",
        "colab": {}
      },
      "source": [
        "# importing libraries for data handling and analysis\n",
        "import pandas as pd\n",
        "from pandas.plotting import scatter_matrix\n",
        "import numpy as np\n",
        "from scipy.stats import norm, skew\n",
        "import warnings\n",
        "warnings.filterwarnings('ignore')"
      ],
      "execution_count": null,
      "outputs": []
    },
    {
      "cell_type": "code",
      "metadata": {
        "id": "X--fS9DXE0-S",
        "colab_type": "code",
        "colab": {}
      },
      "source": [
        "#!pip install chart_studio"
      ],
      "execution_count": null,
      "outputs": []
    },
    {
      "cell_type": "code",
      "metadata": {
        "id": "QI2aXKxME9WH",
        "colab_type": "code",
        "colab": {
          "base_uri": "https://localhost:8080/",
          "height": 17
        },
        "outputId": "bf57c402-cdab-4cbc-ce58-18539a5af4ba"
      },
      "source": [
        "# importing libraries for data visualisations\n",
        "import seaborn as sns\n",
        "\n",
        "import matplotlib.pyplot as plt\n",
        "import matplotlib.pylab as pylab\n",
        "color = sns.color_palette()\n",
        "pd.options.display.max_columns = None\n",
        "# Standard plotly imports\n",
        "import plotly.offline as py\n",
        "import pandas as pd\n",
        "import plotly.figure_factory as ff\n",
        "import plotly.graph_objs as go\n",
        "from plotly.offline import download_plotlyjs, init_notebook_mode, plot, iplot\n",
        "init_notebook_mode(connected=True)\n",
        "#py.initnotebookmode(connected=True) # this code, allow us to work with offline plotly version\n",
        "# Using plotly + cufflinks in offline mode\n",
        "import cufflinks as cf\n",
        "cf.set_config_file(offline=True)\n",
        "import cufflinks\n",
        "cufflinks.go_offline(connected=True)"
      ],
      "execution_count": null,
      "outputs": [
        {
          "output_type": "display_data",
          "data": {
            "text/html": [
              "        <script type=\"text/javascript\">\n",
              "        window.PlotlyConfig = {MathJaxConfig: 'local'};\n",
              "        if (window.MathJax) {MathJax.Hub.Config({SVG: {font: \"STIX-Web\"}});}\n",
              "        if (typeof require !== 'undefined') {\n",
              "        require.undef(\"plotly\");\n",
              "        requirejs.config({\n",
              "            paths: {\n",
              "                'plotly': ['https://cdn.plot.ly/plotly-latest.min']\n",
              "            }\n",
              "        });\n",
              "        require(['plotly'], function(Plotly) {\n",
              "            window._Plotly = Plotly;\n",
              "        });\n",
              "        }\n",
              "        </script>\n",
              "        "
            ]
          },
          "metadata": {
            "tags": []
          }
        },
        {
          "output_type": "display_data",
          "data": {
            "text/html": [
              "        <script type=\"text/javascript\">\n",
              "        window.PlotlyConfig = {MathJaxConfig: 'local'};\n",
              "        if (window.MathJax) {MathJax.Hub.Config({SVG: {font: \"STIX-Web\"}});}\n",
              "        if (typeof require !== 'undefined') {\n",
              "        require.undef(\"plotly\");\n",
              "        requirejs.config({\n",
              "            paths: {\n",
              "                'plotly': ['https://cdn.plot.ly/plotly-latest.min']\n",
              "            }\n",
              "        });\n",
              "        require(['plotly'], function(Plotly) {\n",
              "            window._Plotly = Plotly;\n",
              "        });\n",
              "        }\n",
              "        </script>\n",
              "        "
            ]
          },
          "metadata": {
            "tags": []
          }
        },
        {
          "output_type": "display_data",
          "data": {
            "text/html": [
              "        <script type=\"text/javascript\">\n",
              "        window.PlotlyConfig = {MathJaxConfig: 'local'};\n",
              "        if (window.MathJax) {MathJax.Hub.Config({SVG: {font: \"STIX-Web\"}});}\n",
              "        if (typeof require !== 'undefined') {\n",
              "        require.undef(\"plotly\");\n",
              "        requirejs.config({\n",
              "            paths: {\n",
              "                'plotly': ['https://cdn.plot.ly/plotly-latest.min']\n",
              "            }\n",
              "        });\n",
              "        require(['plotly'], function(Plotly) {\n",
              "            window._Plotly = Plotly;\n",
              "        });\n",
              "        }\n",
              "        </script>\n",
              "        "
            ]
          },
          "metadata": {
            "tags": []
          }
        }
      ]
    },
    {
      "cell_type": "code",
      "metadata": {
        "id": "Flq-iGQEFbGn",
        "colab_type": "code",
        "colab": {}
      },
      "source": [
        "# sklearn modules for preprocessing\n",
        "from sklearn.preprocessing import OneHotEncoder, LabelEncoder\n",
        "from sklearn.model_selection import train_test_split"
      ],
      "execution_count": null,
      "outputs": []
    },
    {
      "cell_type": "markdown",
      "metadata": {
        "id": "XcabACWayPox",
        "colab_type": "text"
      },
      "source": [
        "Upload the dataset in csv format"
      ]
    },
    {
      "cell_type": "code",
      "metadata": {
        "id": "SFIq0HQEHxkv",
        "colab_type": "code",
        "colab": {
          "resources": {
            "http://localhost:8080/nbextensions/google.colab/files.js": {
              "data": "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",
              "ok": true,
              "headers": [
                [
                  "content-type",
                  "application/javascript"
                ]
              ],
              "status": 200,
              "status_text": ""
            }
          },
          "base_uri": "https://localhost:8080/",
          "height": 320
        },
        "outputId": "d6a09648-c094-4ab9-d120-5fac2b35c9e8"
      },
      "source": [
        "from google.colab import files\n",
        "uploaded = files.upload()"
      ],
      "execution_count": null,
      "outputs": [
        {
          "output_type": "display_data",
          "data": {
            "text/html": [
              "\n",
              "     <input type=\"file\" id=\"files-0f900bd5-0e4e-4712-bf49-bea6facc783c\" name=\"files[]\" multiple disabled\n",
              "        style=\"border:none\" />\n",
              "     <output id=\"result-0f900bd5-0e4e-4712-bf49-bea6facc783c\">\n",
              "      Upload widget is only available when the cell has been executed in the\n",
              "      current browser session. Please rerun this cell to enable.\n",
              "      </output>\n",
              "      <script src=\"/nbextensions/google.colab/files.js\"></script> "
            ],
            "text/plain": [
              "<IPython.core.display.HTML object>"
            ]
          },
          "metadata": {
            "tags": []
          }
        },
        {
          "output_type": "error",
          "ename": "TypeError",
          "evalue": "ignored",
          "traceback": [
            "\u001b[0;31m---------------------------------------------------------------------------\u001b[0m",
            "\u001b[0;31mTypeError\u001b[0m                                 Traceback (most recent call last)",
            "\u001b[0;32m<ipython-input-6-21dc3c638f66>\u001b[0m in \u001b[0;36m<module>\u001b[0;34m()\u001b[0m\n\u001b[1;32m      1\u001b[0m \u001b[0;32mfrom\u001b[0m \u001b[0mgoogle\u001b[0m\u001b[0;34m.\u001b[0m\u001b[0mcolab\u001b[0m \u001b[0;32mimport\u001b[0m \u001b[0mfiles\u001b[0m\u001b[0;34m\u001b[0m\u001b[0;34m\u001b[0m\u001b[0m\n\u001b[0;32m----> 2\u001b[0;31m \u001b[0muploaded\u001b[0m \u001b[0;34m=\u001b[0m \u001b[0mfiles\u001b[0m\u001b[0;34m.\u001b[0m\u001b[0mupload\u001b[0m\u001b[0;34m(\u001b[0m\u001b[0;34m)\u001b[0m\u001b[0;34m\u001b[0m\u001b[0;34m\u001b[0m\u001b[0m\n\u001b[0m",
            "\u001b[0;32m/usr/local/lib/python3.6/dist-packages/google/colab/files.py\u001b[0m in \u001b[0;36mupload\u001b[0;34m()\u001b[0m\n\u001b[1;32m     67\u001b[0m   \u001b[0mlocal_filenames\u001b[0m \u001b[0;34m=\u001b[0m \u001b[0mdict\u001b[0m\u001b[0;34m(\u001b[0m\u001b[0;34m)\u001b[0m\u001b[0;34m\u001b[0m\u001b[0;34m\u001b[0m\u001b[0m\n\u001b[1;32m     68\u001b[0m \u001b[0;34m\u001b[0m\u001b[0m\n\u001b[0;32m---> 69\u001b[0;31m   \u001b[0;32mwhile\u001b[0m \u001b[0mresult\u001b[0m\u001b[0;34m[\u001b[0m\u001b[0;34m'action'\u001b[0m\u001b[0;34m]\u001b[0m \u001b[0;34m!=\u001b[0m \u001b[0;34m'complete'\u001b[0m\u001b[0;34m:\u001b[0m\u001b[0;34m\u001b[0m\u001b[0;34m\u001b[0m\u001b[0m\n\u001b[0m\u001b[1;32m     70\u001b[0m     result = _output.eval_js(\n\u001b[1;32m     71\u001b[0m         'google.colab._files._uploadFilesContinue(\"{output_id}\")'.format(\n",
            "\u001b[0;31mTypeError\u001b[0m: 'NoneType' object is not subscriptable"
          ]
        }
      ]
    },
    {
      "cell_type": "code",
      "metadata": {
        "id": "H5lrgKlmH-h-",
        "colab_type": "code",
        "colab": {}
      },
      "source": [
        "import io\n",
        "df2 = pd.read_csv(io.BytesIO(uploaded['org.csv']))"
      ],
      "execution_count": null,
      "outputs": []
    },
    {
      "cell_type": "code",
      "metadata": {
        "id": "OR8N-miKIGsw",
        "colab_type": "code",
        "colab": {}
      },
      "source": [
        "print(\"Shape of dataframe is: {}\".format(df2.shape))"
      ],
      "execution_count": null,
      "outputs": []
    },
    {
      "cell_type": "code",
      "metadata": {
        "id": "i2MxIz4NIKQF",
        "colab_type": "code",
        "colab": {}
      },
      "source": [
        "df_HR = df2.copy()"
      ],
      "execution_count": null,
      "outputs": []
    },
    {
      "cell_type": "markdown",
      "metadata": {
        "id": "YFtQyqJ1ycB4",
        "colab_type": "text"
      },
      "source": [
        "**Data Description and Exploratory Visualisations**"
      ]
    },
    {
      "cell_type": "markdown",
      "metadata": {
        "id": "IKdBoOLxytjw",
        "colab_type": "text"
      },
      "source": [
        "In this section, we will provide data visualizations that summarizes or extracts relevant characteristics of features in our dataset. Let's look at each column in detail, get a better understanding of the dataset, and group them together."
      ]
    },
    {
      "cell_type": "code",
      "metadata": {
        "id": "bxQTVCUdIO50",
        "colab_type": "code",
        "colab": {}
      },
      "source": [
        "# Dataset columns\n",
        "df_HR.columns"
      ],
      "execution_count": null,
      "outputs": []
    },
    {
      "cell_type": "code",
      "metadata": {
        "id": "eL9sUWbFIR74",
        "colab_type": "code",
        "colab": {}
      },
      "source": [
        "# Dataset header\n",
        "df_HR.head()"
      ],
      "execution_count": null,
      "outputs": []
    },
    {
      "cell_type": "code",
      "metadata": {
        "id": "J5rkO6gcVR3_",
        "colab_type": "code",
        "colab": {}
      },
      "source": [
        "df_HR.drop(['EmployeeCount','StandardHours'],axis=1,inplace = True)"
      ],
      "execution_count": null,
      "outputs": []
    },
    {
      "cell_type": "code",
      "metadata": {
        "id": "hLsHYBOagbb3",
        "colab_type": "code",
        "colab": {}
      },
      "source": [
        "lt = [['Yes','No'][x] for x in df_HR.Attrition]\n",
        "df_HR['Target'] = lt"
      ],
      "execution_count": null,
      "outputs": []
    },
    {
      "cell_type": "code",
      "metadata": {
        "id": "mLb1u6K30sgH",
        "colab_type": "code",
        "colab": {}
      },
      "source": [
        "df_HR['Target'].value_counts()"
      ],
      "execution_count": null,
      "outputs": []
    },
    {
      "cell_type": "markdown",
      "metadata": {
        "id": "pNEmN0Q6y3EW",
        "colab_type": "text"
      },
      "source": [
        "The dataset contains several numerical and categorical columns providing various information on employee's personal and employment details."
      ]
    },
    {
      "cell_type": "code",
      "metadata": {
        "id": "gNz6qplDIU4-",
        "colab_type": "code",
        "colab": {}
      },
      "source": [
        "#break down the columns by their type (i.e. int64, float64, object)\n",
        "df_HR.columns.to_series().groupby(df_HR.dtypes).groups"
      ],
      "execution_count": null,
      "outputs": []
    },
    {
      "cell_type": "code",
      "metadata": {
        "id": "ZAlOjxd-JHcy",
        "colab_type": "code",
        "colab": {}
      },
      "source": [
        "# Columns datatypes and missing values\n",
        "df_HR.info()"
      ],
      "execution_count": null,
      "outputs": []
    },
    {
      "cell_type": "markdown",
      "metadata": {
        "id": "icn7qI-g68CO",
        "colab_type": "text"
      },
      "source": [
        "Inference: The data provided has no missing values."
      ]
    },
    {
      "cell_type": "code",
      "metadata": {
        "id": "kFu7v0hmJUMx",
        "colab_type": "code",
        "colab": {}
      },
      "source": [
        "df_HR.describe()"
      ],
      "execution_count": null,
      "outputs": []
    },
    {
      "cell_type": "code",
      "metadata": {
        "id": "_jCOYiHSJZEV",
        "colab_type": "code",
        "colab": {}
      },
      "source": [
        "df_HR.hist(figsize=(20,20))\n",
        "plt.show()"
      ],
      "execution_count": null,
      "outputs": []
    },
    {
      "cell_type": "markdown",
      "metadata": {
        "id": "f60Po1OH7Hsk",
        "colab_type": "text"
      },
      "source": [
        "Observations made are:\n",
        "\n",
        "-Many histograms are tail-heavy; indeed several distributions are right-skewed (e.g. MonthlyIncome DistanceFromHome, YearsAtCompany). \n",
        "\n",
        "-Age distribution is a slightly right-skewed normal distribution with the bulk of the staff between 25 and 45 years old.\n",
        "\n",
        "-EmployeeCount and StandardHours are constant values for all employees. They're likely to be redundant features.\n",
        "\n",
        "-Employee Number is likely to be a unique identifier for employees."
      ]
    },
    {
      "cell_type": "code",
      "metadata": {
        "id": "XavODMzfJc1x",
        "colab_type": "code",
        "colab": {}
      },
      "source": [
        "(mu, sigma) = norm.fit(df_HR.loc[df_HR['Attrition'] == 1, 'Age'])\n",
        "print('Ex-employees: average age = {:.1f} years old and standard deviation = {:.1f}'.format(mu, sigma))\n",
        "(mu, sigma) = norm.fit(df_HR.loc[df_HR['Attrition'] == 0, 'Age'])\n",
        "print('Current employees: average age = {:.1f} years old and standard deviation = {:.1f}'.format(\n",
        "    mu, sigma))"
      ],
      "execution_count": null,
      "outputs": []
    },
    {
      "cell_type": "code",
      "metadata": {
        "id": "ifsuULSnLra3",
        "colab_type": "code",
        "colab": {}
      },
      "source": [
        "##Find some explanation???\n",
        "'''configure_plotly_browser_state()\n",
        "from plotly.offline import iplot\n",
        "\n",
        "plt.figure(figsize=(15,6))\n",
        "plt.style.use('seaborn-colorblind')\n",
        "plt.grid(True, alpha=0.5)\n",
        "sns.kdeplot(df_HR.loc[df_HR['Attrition'] == 0, 'Age'], label = 'Active Employee')\n",
        "sns.kdeplot(df_HR.loc[df_HR['Attrition'] == 1, 'Age'], label = 'Ex-Employees')\n",
        "plt.xlim(left=18, right=60)\n",
        "plt.xlabel('Age (years)')\n",
        "plt.ylabel('Density')\n",
        "plt.title('Age Distribution in Percent by Attrition Status');'''"
      ],
      "execution_count": null,
      "outputs": []
    },
    {
      "cell_type": "code",
      "metadata": {
        "id": "xkkgp7k7MCjx",
        "colab_type": "code",
        "colab": {}
      },
      "source": [
        "# Education Field of employees\n",
        "df_HR['EducationField'].value_counts()"
      ],
      "execution_count": null,
      "outputs": []
    },
    {
      "cell_type": "code",
      "metadata": {
        "id": "pMBglAlYMMr2",
        "colab_type": "code",
        "colab": {}
      },
      "source": [
        "##Most people who tend to leave the company belong to HR and technical\n",
        "configure_plotly_browser_state()\n",
        "\n",
        "from plotly.offline import iplot\n",
        "import plotly.graph_objs as go\n",
        "\n",
        "\n",
        "\n",
        "df_EducationField = pd.DataFrame(columns=[\"Field\", \"% of Leavers\"])\n",
        "i=0\n",
        "for field in list(df_HR['EducationField'].unique()):\n",
        "    ratio = df_HR[(df_HR['EducationField']==field)&(df_HR['Attrition']==1)].shape[0] / df_HR[df_HR['EducationField']==field].shape[0]\n",
        "    df_EducationField.loc[i] = (field, ratio*100)\n",
        "    i += 1\n",
        "    #print(\"In {}, the ratio of leavers is {:.2f}%\".format(field, ratio*100))    \n",
        "df_EF = df_EducationField.groupby(by=\"Field\").sum()\n",
        "df_EF.iplot(kind='bar',title='Leavers by Education Field (%)')"
      ],
      "execution_count": null,
      "outputs": []
    },
    {
      "cell_type": "code",
      "metadata": {
        "id": "xXXFdNiqMR1b",
        "colab_type": "code",
        "colab": {}
      },
      "source": [
        "# Gender of employees\n",
        "df_HR['Gender'].value_counts()"
      ],
      "execution_count": null,
      "outputs": []
    },
    {
      "cell_type": "code",
      "metadata": {
        "id": "eDQ6sRrNMVH4",
        "colab_type": "code",
        "colab": {}
      },
      "source": [
        "print(\"Normalised gender distribution of ex-employees in the dataset: Male = {:.1f}%; Female {:.1f}%.\".format((df_HR[(df_HR['Attrition'] == 1) & (\n",
        "    df_HR['Gender'] == 'Male')].shape[0] / df_HR[df_HR['Gender'] == 'Male'].shape[0])*100, (df_HR[(df_HR['Attrition'] == 1) & (df_HR['Gender'] == 'Female')].shape[0] / df_HR[df_HR['Gender'] == 'Female'].shape[0])*100))"
      ],
      "execution_count": null,
      "outputs": []
    },
    {
      "cell_type": "code",
      "metadata": {
        "id": "TV9_C83eMmSX",
        "colab_type": "code",
        "colab": {}
      },
      "source": [
        "##Number of males to leave the company is more than females\n",
        "configure_plotly_browser_state()\n",
        "\n",
        "df_Gender = pd.DataFrame(columns=[\"Gender\", \"% of Leavers\"])\n",
        "i=0\n",
        "for field in list(df_HR['Gender'].unique()):\n",
        "    ratio = df_HR[(df_HR['Gender']==field)&(df_HR['Attrition']==1)].shape[0] / df_HR[df_HR['Gender']==field].shape[0]\n",
        "    df_Gender.loc[i] = (field, ratio*100)\n",
        "    i += 1\n",
        "    #print(\"In {}, the ratio of leavers is {:.2f}%\".format(field, ratio*100))    \n",
        "df_G = df_Gender.groupby(by=\"Gender\").sum()\n",
        "df_G.iplot(kind='bar',title='Leavers by Gender (%)')"
      ],
      "execution_count": null,
      "outputs": []
    },
    {
      "cell_type": "code",
      "metadata": {
        "id": "SnUHyI14Mqi8",
        "colab_type": "code",
        "colab": {}
      },
      "source": [
        "# Marital Status of employees\n",
        "df_HR['MaritalStatus'].value_counts()"
      ],
      "execution_count": null,
      "outputs": []
    },
    {
      "cell_type": "code",
      "metadata": {
        "id": "si9nKd-sMv2A",
        "colab_type": "code",
        "colab": {}
      },
      "source": [
        "##Most people who leave the company are single by martial status\n",
        "configure_plotly_browser_state()\n",
        "\n",
        "df_Marital = pd.DataFrame(columns=[\"Marital Status\", \"% of Leavers\"])\n",
        "i=0\n",
        "for field in list(df_HR['MaritalStatus'].unique()):\n",
        "    ratio = df_HR[(df_HR['MaritalStatus']==field)&(df_HR['Attrition']==1)].shape[0] / df_HR[df_HR['MaritalStatus']==field].shape[0]\n",
        "    df_Marital.loc[i] = (field, ratio*100)\n",
        "    i += 1\n",
        "    #print(\"In {}, the ratio of leavers is {:.2f}%\".format(field, ratio*100))    \n",
        "df_MF = df_Marital.groupby(by=\"Marital Status\").sum()\n",
        "df_MF.iplot(kind='bar',title='Leavers by Marital Status (%)')"
      ],
      "execution_count": null,
      "outputs": []
    },
    {
      "cell_type": "code",
      "metadata": {
        "id": "rAMeBajz6tJ5",
        "colab_type": "code",
        "colab": {}
      },
      "source": [
        "# Distance from Home\n",
        "print(\"Distance from home for employees to get to work is from {} to {} miles.\".format(df_HR['DistanceFromHome'].min(),\n",
        "                                                                                       df_HR['DistanceFromHome'].max()))"
      ],
      "execution_count": null,
      "outputs": []
    },
    {
      "cell_type": "code",
      "metadata": {
        "id": "yj3dduGa6wdS",
        "colab_type": "code",
        "colab": {}
      },
      "source": [
        "print('Average distance from home for currently active employees: {:.2f} miles and ex-employees: {:.2f} miles'.format(\n",
        "    df_HR[df_HR['Attrition'] == 0]['DistanceFromHome'].mean(), df_HR[df_HR['Attrition'] == 1]['DistanceFromHome'].mean()))"
      ],
      "execution_count": null,
      "outputs": []
    },
    {
      "cell_type": "code",
      "metadata": {
        "id": "9YrLrfN263oJ",
        "colab_type": "code",
        "colab": {}
      },
      "source": [
        "##Most people who tend to leave the company have more distance from home (>=10) compared to those who tend to stay.\n",
        "configure_plotly_browser_state()\n",
        "\n",
        "plt.figure(figsize=(15,6))\n",
        "plt.style.use('seaborn-colorblind')\n",
        "plt.grid(True, alpha=0.5)\n",
        "sns.kdeplot(df_HR.loc[df_HR['Attrition'] == 0, 'DistanceFromHome'], label = 'Active Employee')\n",
        "sns.kdeplot(df_HR.loc[df_HR['Attrition'] == 1, 'DistanceFromHome'], label = 'Ex-Employees')\n",
        "plt.xlabel('DistanceFromHome')\n",
        "plt.xlim(left=0)\n",
        "plt.ylabel('Density')\n",
        "plt.title('Distance From Home Distribution in Percent by Attrition Status');"
      ],
      "execution_count": null,
      "outputs": []
    },
    {
      "cell_type": "code",
      "metadata": {
        "id": "rQKJMjBA7A_q",
        "colab_type": "code",
        "colab": {}
      },
      "source": [
        "# The organisation consists of several departments\n",
        "df_HR['Department'].value_counts()"
      ],
      "execution_count": null,
      "outputs": []
    },
    {
      "cell_type": "code",
      "metadata": {
        "id": "gzz45MXn7NIR",
        "colab_type": "code",
        "colab": {}
      },
      "source": [
        "# Employees have different business travel commitmnent depending on their roles and level in the organisation\n",
        "df_HR['BusinessTravel'].value_counts()"
      ],
      "execution_count": null,
      "outputs": []
    },
    {
      "cell_type": "code",
      "metadata": {
        "id": "be2V-_mJ7Pwn",
        "colab_type": "code",
        "colab": {}
      },
      "source": [
        "##Most people who tend to leave the company used to travel frequently\n",
        "configure_plotly_browser_state()\n",
        "\n",
        "df_BusinessTravel = pd.DataFrame(columns=[\"Business Travel\", \"% of Leavers\"])\n",
        "i=0\n",
        "for field in list(df_HR['BusinessTravel'].unique()):\n",
        "    ratio = df_HR[(df_HR['BusinessTravel']==field)&(df_HR['Attrition']==1)].shape[0] / df_HR[df_HR['BusinessTravel']==field].shape[0]\n",
        "    df_BusinessTravel.loc[i] = (field, ratio*100)\n",
        "    i += 1\n",
        "    #print(\"In {}, the ratio of leavers is {:.2f}%\".format(field, ratio*100))    \n",
        "df_BT = df_BusinessTravel.groupby(by=\"Business Travel\").sum()\n",
        "df_BT.iplot(kind='bar',title='Leavers by Business Travel (%)')"
      ],
      "execution_count": null,
      "outputs": []
    },
    {
      "cell_type": "code",
      "metadata": {
        "id": "7DRJXhDl7Yy0",
        "colab_type": "code",
        "colab": {}
      },
      "source": [
        "# Employees in the database have several roles on-file\n",
        "df_HR['JobRole'].value_counts()"
      ],
      "execution_count": null,
      "outputs": []
    },
    {
      "cell_type": "code",
      "metadata": {
        "id": "GDAHbe3j7b8s",
        "colab_type": "code",
        "colab": {}
      },
      "source": [
        "##Job Roles including Sales representative, HR and lab technician tend to leave the company.\n",
        "configure_plotly_browser_state()\n",
        "\n",
        "df_JobRole = pd.DataFrame(columns=[\"Job Role\", \"% of Leavers\"])\n",
        "i=0\n",
        "for field in list(df_HR['JobRole'].unique()):\n",
        "    ratio = df_HR[(df_HR['JobRole']==field)&(df_HR['Attrition']==1)].shape[0] / df_HR[df_HR['JobRole']==field].shape[0]\n",
        "    df_JobRole.loc[i] = (field, ratio*100)\n",
        "    i += 1\n",
        "    #print(\"In {}, the ratio of leavers is {:.2f}%\".format(field, ratio*100))    \n",
        "df_JR = df_JobRole.groupby(by=\"Job Role\").sum()\n",
        "df_JR.iplot(kind='bar',title='Leavers by Job Role (%)')"
      ],
      "execution_count": null,
      "outputs": []
    },
    {
      "cell_type": "code",
      "metadata": {
        "id": "kM9b0uKV7npT",
        "colab_type": "code",
        "colab": {}
      },
      "source": [
        "df_HR['JobLevel'].value_counts()\n"
      ],
      "execution_count": null,
      "outputs": []
    },
    {
      "cell_type": "code",
      "metadata": {
        "id": "KuEtQVbM7qBH",
        "colab_type": "code",
        "colab": {}
      },
      "source": [
        "##Most people who tend to leave the organization belonged to Job level 1, i.e at a very early level.\n",
        "configure_plotly_browser_state()\n",
        "\n",
        "df_JobLevel = pd.DataFrame(columns=[\"Job Level\", \"% of Leavers\"])\n",
        "i=0\n",
        "for field in list(df_HR['JobLevel'].unique()):\n",
        "    ratio = df_HR[(df_HR['JobLevel']==field)&(df_HR['Attrition']==1)].shape[0] / df_HR[df_HR['JobLevel']==field].shape[0]\n",
        "    df_JobLevel.loc[i] = (field, ratio*100)\n",
        "    i += 1\n",
        "    #print(\"In {}, the ratio of leavers is {:.2f}%\".format(field, ratio*100))    \n",
        "df_JL = df_JobLevel.groupby(by=\"Job Level\").sum()\n",
        "df_JL.iplot(kind='bar',title='Leavers by Job Level (%)')"
      ],
      "execution_count": null,
      "outputs": []
    },
    {
      "cell_type": "code",
      "metadata": {
        "id": "5P2BY9Yz7x_5",
        "colab_type": "code",
        "colab": {}
      },
      "source": [
        "df_HR['JobInvolvement'].value_counts()"
      ],
      "execution_count": null,
      "outputs": []
    },
    {
      "cell_type": "code",
      "metadata": {
        "id": "NBWa0dwf7z8g",
        "colab_type": "code",
        "colab": {}
      },
      "source": [
        "##People with lesser involvement in their job tend to leave the organization\n",
        "configure_plotly_browser_state()\n",
        "\n",
        "df_JobInvolvement = pd.DataFrame(columns=[\"Job Involvement\", \"% of Leavers\"])\n",
        "i=0\n",
        "for field in list(df_HR['JobInvolvement'].unique()):\n",
        "    ratio = df_HR[(df_HR['JobInvolvement']==field)&(df_HR['Attrition']==1)].shape[0] / df_HR[df_HR['JobInvolvement']==field].shape[0]\n",
        "    df_JobInvolvement.loc[i] = (field, ratio*100)\n",
        "    i += 1\n",
        "    #print(\"In {}, the ratio of leavers is {:.2f}%\".format(field, ratio*100))    \n",
        "df_JI = df_JobInvolvement.groupby(by=\"Job Involvement\").sum()\n",
        "df_JI.iplot(kind='bar',title='Leavers by Job Involvement (%)')"
      ],
      "execution_count": null,
      "outputs": []
    },
    {
      "cell_type": "code",
      "metadata": {
        "id": "O-zxMj-SYJbV",
        "colab_type": "code",
        "colab": {}
      },
      "source": [
        "print(\"Number of training times last year varies from {} to {} years.\".format(\n",
        "    df_HR['TrainingTimesLastYear'].min(), df_HR['TrainingTimesLastYear'].max()))"
      ],
      "execution_count": null,
      "outputs": []
    },
    {
      "cell_type": "code",
      "metadata": {
        "id": "L0Jk0_R6YK_m",
        "colab_type": "code",
        "colab": {}
      },
      "source": [
        "##No intuition can be removed,since both have the same trends\n",
        "'''configure_plotly_browser_state()\n",
        "\n",
        "plt.figure(figsize=(15,6))\n",
        "plt.style.use('seaborn-colorblind')\n",
        "plt.grid(True, alpha=0.5)\n",
        "sns.kdeplot(df_HR.loc[df_HR['Attrition'] == 0, 'TrainingTimesLastYear'], label = 'Active Employee')\n",
        "sns.kdeplot(df_HR.loc[df_HR['Attrition'] == 1, 'TrainingTimesLastYear'], label = 'Ex-Employees')\n",
        "plt.xlabel('TrainingTimesLastYear')\n",
        "plt.ylabel('Density')\n",
        "plt.title('Training Times Last Year Distribution in Percent by Attrition Status');'''"
      ],
      "execution_count": null,
      "outputs": []
    },
    {
      "cell_type": "code",
      "metadata": {
        "id": "Eqvz98wqYY-5",
        "colab_type": "code",
        "colab": {}
      },
      "source": [
        "df_HR['NumCompaniesWorked'].value_counts()"
      ],
      "execution_count": null,
      "outputs": []
    },
    {
      "cell_type": "code",
      "metadata": {
        "id": "s3gzy7LTYNF_",
        "colab_type": "code",
        "colab": {}
      },
      "source": [
        "##Poeple who have worked in different organization, i.e have changed their jobs frequently are more likely to leave the organization.\n",
        "configure_plotly_browser_state()\n",
        "\n",
        "df_NumCompaniesWorked = pd.DataFrame(columns=[\"Num Companies Worked\", \"% of Leavers\"])\n",
        "i=0\n",
        "for field in list(df_HR['NumCompaniesWorked'].unique()):\n",
        "    ratio = df_HR[(df_HR['NumCompaniesWorked']==field)&(df_HR['Attrition']==1)].shape[0] / df_HR[df_HR['NumCompaniesWorked']==field].shape[0]\n",
        "    df_NumCompaniesWorked.loc[i] = (field, ratio*100)\n",
        "    i += 1\n",
        "    #print(\"In {}, the ratio of leavers is {:.2f}%\".format(field, ratio*100))    \n",
        "df_NC = df_NumCompaniesWorked.groupby(by=\"Num Companies Worked\").sum()\n",
        "df_NC.iplot(kind='bar',title='Leavers by Num Companies Worked (%)')"
      ],
      "execution_count": null,
      "outputs": []
    },
    {
      "cell_type": "code",
      "metadata": {
        "id": "2TRu1Sl2Ymuc",
        "colab_type": "code",
        "colab": {}
      },
      "source": [
        "print(\"Number of Years at the company varies from {} to {} years.\".format(\n",
        "    df_HR['YearsAtCompany'].min(), df_HR['YearsAtCompany'].max()))"
      ],
      "execution_count": null,
      "outputs": []
    },
    {
      "cell_type": "code",
      "metadata": {
        "id": "bGP2asN9YqDE",
        "colab_type": "code",
        "colab": {}
      },
      "source": [
        "##People who have spent lesser time in the company are likely to discontinue their work.\n",
        "plt.figure(figsize=(15,6))\n",
        "plt.style.use('seaborn-colorblind')\n",
        "plt.grid(True, alpha=0.5)\n",
        "sns.kdeplot(df_HR.loc[df_HR['Attrition'] == 0, 'YearsAtCompany'], label = 'Active Employee')\n",
        "sns.kdeplot(df_HR.loc[df_HR['Attrition'] == 1, 'YearsAtCompany'], label = 'Ex-Employees')\n",
        "plt.xlabel('YearsAtCompany')\n",
        "plt.xlim(left=0)\n",
        "plt.ylabel('Density')\n",
        "plt.title('Years At Company in Percent by Attrition Status');"
      ],
      "execution_count": null,
      "outputs": []
    },
    {
      "cell_type": "code",
      "metadata": {
        "id": "r52Eu75DY564",
        "colab_type": "code",
        "colab": {}
      },
      "source": [
        "print(\"Number of Years in the current role varies from {} to {} years.\".format(\n",
        "    df_HR['YearsInCurrentRole'].min(), df_HR['YearsInCurrentRole'].max()))"
      ],
      "execution_count": null,
      "outputs": []
    },
    {
      "cell_type": "code",
      "metadata": {
        "id": "UboHR8t9Y9pd",
        "colab_type": "code",
        "colab": {}
      },
      "source": [
        "##Most people who have spent lesser time in their role,are likely to leave the organization. with increase in their years in role they tend to stay in the organization.\n",
        "plt.figure(figsize=(15,6))\n",
        "plt.style.use('seaborn-colorblind')\n",
        "plt.grid(True, alpha=0.5)\n",
        "sns.kdeplot(df_HR.loc[df_HR['Attrition'] == 0, 'YearsInCurrentRole'], label = 'Attrition No ')\n",
        "sns.kdeplot(df_HR.loc[df_HR['Attrition'] == 1, 'YearsInCurrentRole'], label = 'Attrition Yes')\n",
        "plt.xlabel('YearsInCurrentRole')\n",
        "plt.xlim(left=0)\n",
        "plt.ylabel('Density')\n",
        "plt.title('Years In Current Role in Percent by Attrition Status');"
      ],
      "execution_count": null,
      "outputs": []
    },
    {
      "cell_type": "code",
      "metadata": {
        "id": "HHqV_6TJZGGE",
        "colab_type": "code",
        "colab": {}
      },
      "source": [
        "print(\"Number of Years since last promotion varies from {} to {} years.\".format(\n",
        "    df_HR['YearsSinceLastPromotion'].min(), df_HR['YearsSinceLastPromotion'].max()))"
      ],
      "execution_count": null,
      "outputs": []
    },
    {
      "cell_type": "code",
      "metadata": {
        "id": "PGmsXAJUZIt_",
        "colab_type": "code",
        "colab": {}
      },
      "source": [
        "##Mostly the employees with more number of difference in their promotion period are less likely to leave the company.\n",
        "##And with less number of difference i.e 1 or less than it are more likely to leave the company\n",
        "plt.figure(figsize=(15,6))\n",
        "plt.style.use('seaborn-colorblind')\n",
        "plt.grid(True, alpha=0.5)\n",
        "sns.kdeplot(df_HR.loc[df_HR['Attrition'] == 0, 'YearsSinceLastPromotion'], label = 'Active Employee')\n",
        "sns.kdeplot(df_HR.loc[df_HR['Attrition'] == 1, 'YearsSinceLastPromotion'], label = 'Ex-Employees')\n",
        "plt.xlabel('YearsSinceLastPromotion')\n",
        "plt.xlim(left=0)\n",
        "plt.ylabel('Density')\n",
        "plt.title('Years Since Last Promotion in Percent by Attrition Status');\n"
      ],
      "execution_count": null,
      "outputs": []
    },
    {
      "cell_type": "code",
      "metadata": {
        "id": "JAlBHid5ZV6v",
        "colab_type": "code",
        "colab": {}
      },
      "source": [
        "print(\"Total working years varies from {} to {} years.\".format(\n",
        "    df_HR['TotalWorkingYears'].min(), df_HR['TotalWorkingYears'].max()))"
      ],
      "execution_count": null,
      "outputs": []
    },
    {
      "cell_type": "code",
      "metadata": {
        "id": "2WLx0N6uZZJW",
        "colab_type": "code",
        "colab": {}
      },
      "source": [
        "##Number of people spending lesser time in organization are more likely to leave it.\n",
        "##Number of people with comparatively more experience in the same company (>=38)years are more likely to leave the company\n",
        "plt.figure(figsize=(15,6))\n",
        "plt.style.use('seaborn-colorblind')\n",
        "plt.grid(True, alpha=0.5)\n",
        "sns.kdeplot(df_HR.loc[df_HR['Attrition'] == 0, 'TotalWorkingYears'], label = 'Active Employee')\n",
        "sns.kdeplot(df_HR.loc[df_HR['Attrition'] == 1, 'TotalWorkingYears'], label = 'Ex-Employees')\n",
        "plt.xlabel('TotalWorkingYears')\n",
        "plt.xlim(left=0)\n",
        "plt.ylabel('Density')\n",
        "plt.title('Total Working Years in Percent by Attrition Status');\n"
      ],
      "execution_count": null,
      "outputs": []
    },
    {
      "cell_type": "code",
      "metadata": {
        "id": "-s9U3X-4ZgXw",
        "colab_type": "code",
        "colab": {}
      },
      "source": [
        "print(\"Number of Years with current manager varies from {} to {} years.\".format(\n",
        "    df_HR['YearsWithCurrManager'].min(), df_HR['YearsWithCurrManager'].max()))"
      ],
      "execution_count": null,
      "outputs": []
    },
    {
      "cell_type": "code",
      "metadata": {
        "id": "a39A9n1WZh7A",
        "colab_type": "code",
        "colab": {}
      },
      "source": [
        "##More number of people who are leaving the company are wokring with the same manager for lesser time.\n",
        "plt.figure(figsize=(15,6))\n",
        "plt.style.use('seaborn-colorblind')\n",
        "plt.grid(True, alpha=0.5)\n",
        "sns.kdeplot(df_HR.loc[df_HR['Attrition'] == 0, 'YearsWithCurrManager'], label = 'Attrition No')\n",
        "sns.kdeplot(df_HR.loc[df_HR['Attrition'] == 1, 'YearsWithCurrManager'], label = 'Attrition Yes')\n",
        "plt.xlabel('YearsWithCurrManager')\n",
        "plt.xlim(left=0)\n",
        "plt.ylabel('Density')\n",
        "plt.title('Years With Curr Manager in Percent by Attrition Status');\n"
      ],
      "execution_count": null,
      "outputs": []
    },
    {
      "cell_type": "code",
      "metadata": {
        "id": "Fhq6wDOcZoEL",
        "colab_type": "code",
        "colab": {}
      },
      "source": [
        "\n",
        "#df_HR['WorkLifeBalance'].value_counts()"
      ],
      "execution_count": null,
      "outputs": []
    },
    {
      "cell_type": "code",
      "metadata": {
        "id": "D5F7bvL8ZpoI",
        "colab_type": "code",
        "colab": {}
      },
      "source": [
        "##Not important\n",
        "'''configure_plotly_browser_state()\n",
        "\n",
        "df_WorkLifeBalance = pd.DataFrame(columns=[\"WorkLifeBalance\", \"% of Leavers\"])\n",
        "i=0\n",
        "for field in list(df_HR['WorkLifeBalance'].unique()):\n",
        "    ratio = df_HR[(df_HR['WorkLifeBalance']==field)&(df_HR['Attrition']==1)].shape[0] / df_HR[df_HR['WorkLifeBalance']==field].shape[0]\n",
        "    df_WorkLifeBalance.loc[i] = (field, ratio*100)\n",
        "    i += 1\n",
        "    #print(\"In {}, the ratio of leavers is {:.2f}%\".format(field, ratio*100))    \n",
        "df_WLB = df_WorkLifeBalance.groupby(by=\"WorkLifeBalance\").sum()\n",
        "df_WLB.iplot(kind='bar',title='Leavers by WorkLifeBalance (%)')'''"
      ],
      "execution_count": null,
      "outputs": []
    },
    {
      "cell_type": "code",
      "metadata": {
        "id": "MFzkoPVW4pff",
        "colab_type": "code",
        "colab": {}
      },
      "source": [
        "df_HR['OverTime'].value_counts()\n"
      ],
      "execution_count": null,
      "outputs": []
    },
    {
      "cell_type": "code",
      "metadata": {
        "id": "muOUrRhv4q11",
        "colab_type": "code",
        "colab": {}
      },
      "source": [
        "##Important################\n",
        "##Most people who tend to leave the company used to work Overtime in their work.\n",
        "configure_plotly_browser_state()\n",
        "\n",
        "\n",
        "df_OverTime = pd.DataFrame(columns=[\"OverTime\", \"% of Leavers\"])\n",
        "i=0\n",
        "for field in list(df_HR['OverTime'].unique()):\n",
        "    ratio = df_HR[(df_HR['OverTime']==field)&(df_HR['Attrition']==1)].shape[0] / df_HR[df_HR['OverTime']==field].shape[0]\n",
        "    df_OverTime.loc[i] = (field, ratio*100)\n",
        "    i += 1\n",
        "    #print(\"In {}, the ratio of leavers is {:.2f}%\".format(field, ratio*100))    \n",
        "df_OT = df_OverTime.groupby(by=\"OverTime\").sum()\n",
        "df_OT.iplot(kind='bar',title='Leavers by OverTime (%)')"
      ],
      "execution_count": null,
      "outputs": []
    },
    {
      "cell_type": "code",
      "metadata": {
        "id": "g4cPvT7E4yDU",
        "colab_type": "code",
        "colab": {}
      },
      "source": [
        "print(\"Employee Hourly Rate varies from ${} to ${}.\".format(\n",
        "    df_HR['HourlyRate'].min(), df_HR['HourlyRate'].max()))"
      ],
      "execution_count": null,
      "outputs": []
    },
    {
      "cell_type": "code",
      "metadata": {
        "id": "eFs4J8oz42pm",
        "colab_type": "code",
        "colab": {}
      },
      "source": [
        "print(\"Employee Daily Rate varies from ${} to ${}.\".format(\n",
        "    df_HR['DailyRate'].min(), df_HR['DailyRate'].max()))"
      ],
      "execution_count": null,
      "outputs": []
    },
    {
      "cell_type": "code",
      "metadata": {
        "id": "zP_DZIL344uL",
        "colab_type": "code",
        "colab": {}
      },
      "source": [
        "print(\"Employee Monthly Rate varies from ${} to ${}.\".format(\n",
        "    df_HR['MonthlyRate'].min(), df_HR['MonthlyRate'].max()))"
      ],
      "execution_count": null,
      "outputs": []
    },
    {
      "cell_type": "code",
      "metadata": {
        "id": "yy1a2zcz48LX",
        "colab_type": "code",
        "colab": {}
      },
      "source": [
        "print(\"Employee Monthly Income varies from ${} to ${}.\".format(\n",
        "    df_HR['MonthlyIncome'].min(), df_HR['MonthlyIncome'].max()))"
      ],
      "execution_count": null,
      "outputs": []
    },
    {
      "cell_type": "code",
      "metadata": {
        "id": "RLQmVPwk4-Ql",
        "colab_type": "code",
        "colab": {}
      },
      "source": [
        "##Most people who tend to leave the company are having lesser income and hence the count is more. \n",
        "##Also the people with more income are less likely to leave the company\n",
        "plt.figure(figsize=(15,6))\n",
        "plt.style.use('seaborn-colorblind')\n",
        "plt.grid(True, alpha=0.5)\n",
        "sns.kdeplot(df_HR.loc[df_HR['Attrition'] == 0, 'MonthlyIncome'], label = 'Active Employee')\n",
        "sns.kdeplot(df_HR.loc[df_HR['Attrition'] == 1, 'MonthlyIncome'], label = 'Ex-Employees')\n",
        "plt.xlabel('Monthly Income')\n",
        "plt.xlim(left=0)\n",
        "plt.ylabel('Density')\n",
        "plt.title('Monthly Income in Percent by Attrition Status');\n"
      ],
      "execution_count": null,
      "outputs": []
    },
    {
      "cell_type": "code",
      "metadata": {
        "id": "D9ZFqCq-5B1p",
        "colab_type": "code",
        "colab": {}
      },
      "source": [
        "'''print(\"Percentage Salary Hikes varies from {}% to {}%.\".format(\n",
        "    df_HR['PercentSalaryHike'].min(), df_HR['PercentSalaryHike'].max()))'''"
      ],
      "execution_count": null,
      "outputs": []
    },
    {
      "cell_type": "code",
      "metadata": {
        "id": "A3lKgF3u5FQz",
        "colab_type": "code",
        "colab": {}
      },
      "source": [
        "##Graph should not be included.\n",
        "'''plt.figure(figsize=(15,6))\n",
        "plt.style.use('seaborn-colorblind')\n",
        "plt.grid(True, alpha=0.5)\n",
        "sns.kdeplot(df_HR.loc[df_HR['Attrition'] == 0, 'PercentSalaryHike'], label = 'Active Employee')\n",
        "sns.kdeplot(df_HR.loc[df_HR['Attrition'] == 1, 'PercentSalaryHike'], label = 'Ex-Employees')\n",
        "plt.xlabel('PercentSalaryHike')\n",
        "plt.xlim(left=0)\n",
        "plt.ylabel('Density')\n",
        "plt.title('Percent Salary Hike in Percent by Attrition Status');'''"
      ],
      "execution_count": null,
      "outputs": []
    },
    {
      "cell_type": "code",
      "metadata": {
        "id": "zZAtsQur5K-Y",
        "colab_type": "code",
        "colab": {}
      },
      "source": [
        "'''print(\"Stock Option Levels varies from {} to {}.\".format(\n",
        "    df_HR['StockOptionLevel'].min(), df_HR['StockOptionLevel'].max()))'''"
      ],
      "execution_count": null,
      "outputs": []
    },
    {
      "cell_type": "code",
      "metadata": {
        "id": "dOGa2ILz5Orp",
        "colab_type": "code",
        "colab": {}
      },
      "source": [
        "'''configure_plotly_browser_state()\n",
        "\n",
        "df_StockOptionLevel = pd.DataFrame(columns=[\"StockOptionLevel\", \"% of Leavers\"])\n",
        "i=0\n",
        "for field in list(df_HR['StockOptionLevel'].unique()):\n",
        "    ratio = df_HR[(df_HR['StockOptionLevel']==field)&(df_HR['Attrition']==1)].shape[0] / df_HR[df_HR['StockOptionLevel']==field].shape[0]\n",
        "    df_StockOptionLevel.loc[i] = (field, ratio*100)\n",
        "    i += 1\n",
        "    #print(\"In {}, the ratio of leavers is {:.2f}%\".format(field, ratio*100))    \n",
        "df_SOL = df_StockOptionLevel.groupby(by=\"StockOptionLevel\").sum()\n",
        "df_SOL.iplot(kind='bar',title='Leavers by Stock Option Level (%)')'''"
      ],
      "execution_count": null,
      "outputs": []
    },
    {
      "cell_type": "code",
      "metadata": {
        "id": "T-afYNZs5XZU",
        "colab_type": "code",
        "colab": {}
      },
      "source": [
        "#df_HR['EnvironmentSatisfaction'].value_counts()"
      ],
      "execution_count": null,
      "outputs": []
    },
    {
      "cell_type": "code",
      "metadata": {
        "id": "5nKhaAmK6oUK",
        "colab_type": "code",
        "colab": {}
      },
      "source": [
        "##Probably Not important\n",
        "'''configure_plotly_browser_state()\n",
        "\n",
        "df_EnvironmentSatisfaction = pd.DataFrame(columns=[\"EnvironmentSatisfaction\", \"% of Leavers\"])\n",
        "i=0\n",
        "for field in list(df_HR['EnvironmentSatisfaction'].unique()):\n",
        "    ratio = df_HR[(df_HR['EnvironmentSatisfaction']==field)&(df_HR['Attrition']==1)].shape[0] / df_HR[df_HR['EnvironmentSatisfaction']==field].shape[0]\n",
        "    df_EnvironmentSatisfaction.loc[i] = (field, ratio*100)\n",
        "    i += 1\n",
        "    #print(\"In {}, the ratio of leavers is {:.2f}%\".format(field, ratio*100))    \n",
        "df_Env = df_EnvironmentSatisfaction.groupby(by=\"EnvironmentSatisfaction\").sum()\n",
        "df_Env.iplot(kind='bar',title='Leavers by Environment Satisfaction (%)')'''"
      ],
      "execution_count": null,
      "outputs": []
    },
    {
      "cell_type": "code",
      "metadata": {
        "id": "yZ8L_P9D6vD7",
        "colab_type": "code",
        "colab": {}
      },
      "source": [
        "# Job Satisfaction was captured as: 1 'Low' 2 'Medium' 3 'High' 4 'Very High'\n",
        "#df_HR['JobSatisfaction'].value_counts()"
      ],
      "execution_count": null,
      "outputs": []
    },
    {
      "cell_type": "code",
      "metadata": {
        "id": "F3AyTm0m60k9",
        "colab_type": "code",
        "colab": {}
      },
      "source": [
        "##Probably not important\n",
        "'''configure_plotly_browser_state()\n",
        "\n",
        "df_JobSatisfaction = pd.DataFrame(columns=[\"JobSatisfaction\", \"% of Leavers\"])\n",
        "i=0\n",
        "for field in list(df_HR['JobSatisfaction'].unique()):\n",
        "    ratio = df_HR[(df_HR['JobSatisfaction']==field)&(df_HR['Attrition']==1)].shape[0] / df_HR[df_HR['JobSatisfaction']==field].shape[0]\n",
        "    df_JobSatisfaction.loc[i] = (field, ratio*100)\n",
        "    i += 1\n",
        "    #print(\"In {}, the ratio of leavers is {:.2f}%\".format(field, ratio*100))    \n",
        "df_JS = df_JobSatisfaction.groupby(by=\"JobSatisfaction\").sum()\n",
        "df_JS.iplot(kind='bar',title='Leavers by Job Satisfaction (%)')'''"
      ],
      "execution_count": null,
      "outputs": []
    },
    {
      "cell_type": "code",
      "metadata": {
        "id": "vo3lBAvi66cA",
        "colab_type": "code",
        "colab": {}
      },
      "source": [
        "df_HR['RelationshipSatisfaction'].value_counts()"
      ],
      "execution_count": null,
      "outputs": []
    },
    {
      "cell_type": "code",
      "metadata": {
        "id": "4FUGaqCW682S",
        "colab_type": "code",
        "colab": {}
      },
      "source": [
        "##The leavers were having an average relationship satisfaction with company\n",
        "configure_plotly_browser_state()\n",
        "\n",
        "df_RelationshipSatisfaction = pd.DataFrame(columns=[\"RelationshipSatisfaction\", \"% of Leavers\"])\n",
        "i=0\n",
        "for field in list(df_HR['RelationshipSatisfaction'].unique()):\n",
        "    ratio = df_HR[(df_HR['RelationshipSatisfaction']==field)&(df_HR['Attrition']==1)].shape[0] / df_HR[df_HR['RelationshipSatisfaction']==field].shape[0]\n",
        "    df_RelationshipSatisfaction.loc[i] = (field, ratio*100)\n",
        "    i += 1\n",
        "    #print(\"In {}, the ratio of leavers is {:.2f}%\".format(field, ratio*100))    \n",
        "df_RS = df_RelationshipSatisfaction.groupby(by=\"RelationshipSatisfaction\").sum()\n",
        "df_RS.iplot(kind='bar',title='Leavers by Relationship Satisfaction (%)')"
      ],
      "execution_count": null,
      "outputs": []
    },
    {
      "cell_type": "code",
      "metadata": {
        "id": "pakRytrT7DTE",
        "colab_type": "code",
        "colab": {}
      },
      "source": [
        "df_HR['PerformanceRating'].value_counts()"
      ],
      "execution_count": null,
      "outputs": []
    },
    {
      "cell_type": "code",
      "metadata": {
        "id": "TiHcJtoh7H90",
        "colab_type": "code",
        "colab": {}
      },
      "source": [
        "print(\"Normalised percentage of leavers by Stock Option Level: 3: {:.2f}%, 4: {:.2f}%\".format(\n",
        "    df_HR[(df_HR['Attrition'] == 1) & (df_HR['PerformanceRating'] == 3)\n",
        "          ].shape[0] / df_HR[df_HR['StockOptionLevel'] == 1].shape[0]*100,\n",
        "    df_HR[(df_HR['Attrition'] == 1) & (df_HR['PerformanceRating'] == 4)].shape[0] / df_HR[df_HR['StockOptionLevel'] == 1].shape[0]*100))"
      ],
      "execution_count": null,
      "outputs": []
    },
    {
      "cell_type": "code",
      "metadata": {
        "id": "RYVuzBfE7MiY",
        "colab_type": "code",
        "colab": {}
      },
      "source": [
        "'''configure_plotly_browser_state()\n",
        "##Not important\n",
        "df_PerformanceRating = pd.DataFrame(columns=[\"PerformanceRating\", \"% of Leavers\"])\n",
        "i=0\n",
        "for field in list(df_HR['PerformanceRating'].unique()):\n",
        "    ratio = df_HR[(df_HR['PerformanceRating']==field)&(df_HR['Attrition']==1)].shape[0] / df_HR[df_HR['PerformanceRating']==field].shape[0]\n",
        "    df_PerformanceRating.loc[i] = (field, ratio*100)\n",
        "    i += 1\n",
        "    #print(\"In {}, the ratio of leavers is {:.2f}%\".format(field, ratio*100))    \n",
        "df_PR = df_PerformanceRating.groupby(by=\"PerformanceRating\").sum()\n",
        "df_PR.iplot(kind='bar',title='Leavers by Performance Rating (%)')'''"
      ],
      "execution_count": null,
      "outputs": []
    },
    {
      "cell_type": "code",
      "metadata": {
        "id": "RwCQcgd07Wfg",
        "colab_type": "code",
        "colab": {}
      },
      "source": [
        "# Attrition indicates if the employee is currently active ('No') or has left the company ('Yes')\n",
        "df_HR['Attrition'].value_counts()"
      ],
      "execution_count": null,
      "outputs": []
    },
    {
      "cell_type": "code",
      "metadata": {
        "id": "bvbdUvND7c3Z",
        "colab_type": "code",
        "colab": {}
      },
      "source": [
        "print(\"Percentage of Current Employees is {:.1f}% and of Ex-employees is: {:.1f}%\".format(\n",
        "    df_HR[df_HR['Attrition'] == 0].shape[0] / df_HR.shape[0]*100,\n",
        "    df_HR[df_HR['Attrition'] == 1].shape[0] / df_HR.shape[0]*100))"
      ],
      "execution_count": null,
      "outputs": []
    },
    {
      "cell_type": "code",
      "metadata": {
        "id": "DBvViruZ7d0C",
        "colab_type": "code",
        "colab": {}
      },
      "source": [
        "##Very less people tend toleave the company\n",
        "'''configure_plotly_browser_state()\n",
        "df_HR['Attrition'].iplot(kind='hist', xTitle='Attrition',\n",
        "                         yTitle='count', title='Attrition Distribution')'''"
      ],
      "execution_count": null,
      "outputs": []
    },
    {
      "cell_type": "code",
      "metadata": {
        "id": "mSK_HiaU0DF4",
        "colab_type": "code",
        "colab": {}
      },
      "source": [
        "###from this graph we can conclude that most of the people lie in the age ranging from 25-42\n",
        "sns.distplot(df_HR.Age)"
      ],
      "execution_count": null,
      "outputs": []
    },
    {
      "cell_type": "code",
      "metadata": {
        "id": "pLqhlHF60Dfd",
        "colab_type": "code",
        "colab": {}
      },
      "source": [
        "##With this graph we can conclude that with an increase in age and years in the company, the employees are less likely to get weakened\n",
        "##Also at a initial stage, the people are more likely to get weakened at a lower age group(20-30)\n",
        "'''sns.relplot(x='Age', y='YearsAtCompany', hue=\"Attrition\",\n",
        "            data=df_HR)'''"
      ],
      "execution_count": null,
      "outputs": []
    },
    {
      "cell_type": "code",
      "metadata": {
        "id": "aL4pdglovVRl",
        "colab_type": "code",
        "colab": {}
      },
      "source": [
        "sns.boxplot(y = df_HR.MonthlyIncome,hue = df_HR.Department,x = df_HR.Attrition)"
      ],
      "execution_count": null,
      "outputs": []
    },
    {
      "cell_type": "code",
      "metadata": {
        "id": "_ky0-pxE3zXR",
        "colab_type": "code",
        "colab": {}
      },
      "source": [
        "##The plots are arranged considering the number of counts of employees in each field\n",
        "yes = df_HR[df_HR.Attrition == 1]\n",
        "sns.boxplot(x = yes.MonthlyIncome,y = yes.EducationField,orient = 'h',order = ['Life Sciences','Medical','Marketing','Technical Degree','Other','Human Resources'])"
      ],
      "execution_count": null,
      "outputs": []
    },
    {
      "cell_type": "code",
      "metadata": {
        "id": "rQWNXVaZEd76",
        "colab_type": "code",
        "colab": {}
      },
      "source": [
        "no = df_HR[df_HR['Attrition'] == 0]\n",
        "sns.lineplot(x = no.YearsSinceLastPromotion,y = no.MonthlyIncome,hue = no.Attrition,ci = None)\n",
        "##for those who chose to stay in company, there monthly income increases with respect to there promotion period\n",
        "##for those who choose to leave company, for them the monthly income has no proper relation with promotion period"
      ],
      "execution_count": null,
      "outputs": []
    },
    {
      "cell_type": "markdown",
      "metadata": {
        "id": "seGvzm5N44Jp",
        "colab_type": "text"
      },
      "source": [
        "Working and Removal of Outliers\n"
      ]
    },
    {
      "cell_type": "code",
      "metadata": {
        "id": "px6U0PHx0DuZ",
        "colab_type": "code",
        "colab": {}
      },
      "source": [
        "##Focused on graphs with more outliers\n",
        "for i in ['HourlyRate','TotalWorkingYears','NumCompaniesWorked','MonthlyRate']:\n",
        "    sns.boxplot(y = df_HR[i],x = df_HR['Target'])\n",
        "    plt.show()"
      ],
      "execution_count": null,
      "outputs": []
    },
    {
      "cell_type": "code",
      "metadata": {
        "id": "MrAOa2im0ERG",
        "colab_type": "code",
        "colab": {}
      },
      "source": [
        "print(df_HR['TotalWorkingYears'].quantile(0.10))\n",
        "print(df_HR['TotalWorkingYears'].quantile(0.80))\n",
        "df1 = df_HR.copy()\n",
        "df1.shape"
      ],
      "execution_count": null,
      "outputs": []
    },
    {
      "cell_type": "code",
      "metadata": {
        "id": "nDTScV4v0Eim",
        "colab_type": "code",
        "colab": {}
      },
      "source": [
        "df1[\"TotalWorkingYears\"] = np.where(df_HR[\"TotalWorkingYears\"] <1, 1,df_HR['TotalWorkingYears'])\n",
        "df1[\"TotalWorkingYears\"] = np.where(df_HR[\"TotalWorkingYears\"] >16,16,df_HR['TotalWorkingYears'])\n",
        "print(df1['TotalWorkingYears'].skew())"
      ],
      "execution_count": null,
      "outputs": []
    },
    {
      "cell_type": "code",
      "metadata": {
        "id": "PXLRoQLP16Ud",
        "colab_type": "code",
        "colab": {}
      },
      "source": [
        "df1[\"TotalWorkingYears\"].describe()"
      ],
      "execution_count": null,
      "outputs": []
    },
    {
      "cell_type": "code",
      "metadata": {
        "id": "of2wuAxP16go",
        "colab_type": "code",
        "colab": {}
      },
      "source": [
        "num1 = ['Age','DailyRate','DistanceFromHome','Education','EnvironmentSatisfaction','HourlyRate','JobInvolvement','MonthlyIncome','MonthlyRate','NumCompaniesWorked','PercentSalaryHike','TotalWorkingYears','TrainingTimesLastYear','YearsAtCompany','WorkLifeBalance','YearsInCurrentRole','YearsSinceLastPromotion','YearsWithCurrManager']"
      ],
      "execution_count": null,
      "outputs": []
    },
    {
      "cell_type": "code",
      "metadata": {
        "id": "WT3DiFM416sc",
        "colab_type": "code",
        "colab": {}
      },
      "source": [
        "'''for i in num1:\n",
        "    sns.boxplot(y = df1[i],x = df1['Target'])\n",
        "    plt.show()'''"
      ],
      "execution_count": null,
      "outputs": []
    },
    {
      "cell_type": "code",
      "metadata": {
        "id": "73QBBD4E2NcY",
        "colab_type": "code",
        "colab": {}
      },
      "source": [
        "df_HR['MonthlyIncome'].describe()\n",
        "x = df_HR['MonthlyIncome'].quantile(0.10)\n",
        "y = df_HR['MonthlyIncome'].quantile(0.80)\n",
        "df1[\"MonthlyIncome\"] = np.where(df_HR[\"MonthlyIncome\"] <x, x,df_HR['MonthlyIncome'])\n",
        "df1[\"MonthlyIncome\"] = np.where(df_HR[\"MonthlyIncome\"] >y, y,df_HR['MonthlyIncome'])\n",
        "print(df1['MonthlyIncome'].skew())"
      ],
      "execution_count": null,
      "outputs": []
    },
    {
      "cell_type": "code",
      "metadata": {
        "id": "7zgADJow2NXI",
        "colab_type": "code",
        "colab": {}
      },
      "source": [
        "df_HR['NumCompaniesWorked'].describe()\n",
        "x = df_HR['NumCompaniesWorked'].quantile(0.10)\n",
        "y = df_HR['NumCompaniesWorked'].quantile(0.80)\n",
        "df1[\"NumCompaniesWorked\"] = np.where(df_HR[\"NumCompaniesWorked\"] <x, x,df_HR['NumCompaniesWorked'])\n",
        "df1[\"NumCompaniesWorked\"] = np.where(df_HR[\"NumCompaniesWorked\"] >y, y,df_HR['NumCompaniesWorked'])\n",
        "print(df1['NumCompaniesWorked'].skew())"
      ],
      "execution_count": null,
      "outputs": []
    },
    {
      "cell_type": "code",
      "metadata": {
        "id": "sHKBY8Zm2NUh",
        "colab_type": "code",
        "colab": {}
      },
      "source": [
        "df1['TrainingTimesLastYear'].describe()"
      ],
      "execution_count": null,
      "outputs": []
    },
    {
      "cell_type": "code",
      "metadata": {
        "id": "v_90qupE3D7w",
        "colab_type": "code",
        "colab": {}
      },
      "source": [
        "x = df_HR['TrainingTimesLastYear'].quantile(0.1)\n",
        "y = df_HR['TrainingTimesLastYear'].quantile(0.9)\n",
        "df1[\"TrainingTimesLastYear\"] = np.where(df_HR[\"TrainingTimesLastYear\"] <x, x,df_HR['TrainingTimesLastYear'])\n",
        "df1[\"TrainingTimesLastYear\"] = np.where(df_HR[\"TrainingTimesLastYear\"] >y, y,df_HR['TrainingTimesLastYear'])\n",
        "print(df1['TrainingTimesLastYear'].skew())"
      ],
      "execution_count": null,
      "outputs": []
    },
    {
      "cell_type": "code",
      "metadata": {
        "id": "FrtBDyn13D4L",
        "colab_type": "code",
        "colab": {}
      },
      "source": [
        "x = df_HR['YearsAtCompany'].quantile(0.1)\n",
        "y = df_HR['YearsAtCompany'].quantile(0.9)\n",
        "df1[\"YearsAtCompany\"] = np.where(df_HR[\"YearsAtCompany\"] <x, x,df_HR['YearsAtCompany'])\n",
        "df1[\"YearsAtCompany\"] = np.where(df_HR[\"YearsAtCompany\"] >y, y,df_HR['YearsAtCompany'])\n",
        "print(df1['YearsAtCompany'].skew())"
      ],
      "execution_count": null,
      "outputs": []
    },
    {
      "cell_type": "code",
      "metadata": {
        "id": "gVfeyz0i3Dz8",
        "colab_type": "code",
        "colab": {}
      },
      "source": [
        "x = df_HR['YearsInCurrentRole'].quantile(0.2)\n",
        "y = df_HR['YearsInCurrentRole'].quantile(0.9)\n",
        "df1[\"YearsInCurrentRole\"] = np.where(df_HR[\"YearsInCurrentRole\"] <x, x,df_HR['YearsInCurrentRole'])\n",
        "df1[\"YearsInCurrentRole\"] = np.where(df_HR[\"YearsInCurrentRole\"] >y, y,df_HR['YearsInCurrentRole'])\n",
        "print(df1['YearsInCurrentRole'].skew())\n",
        "print(df1['YearsInCurrentRole'].describe())"
      ],
      "execution_count": null,
      "outputs": []
    },
    {
      "cell_type": "code",
      "metadata": {
        "id": "7KoxBe_W3Dw4",
        "colab_type": "code",
        "colab": {}
      },
      "source": [
        "x = df_HR['YearsSinceLastPromotion'].quantile(0.1)\n",
        "y = df_HR['YearsSinceLastPromotion'].quantile(0.8)\n",
        "df1[\"YearsSinceLastPromotion\"] = np.where(df_HR[\"YearsSinceLastPromotion\"] <x, x,df_HR['YearsSinceLastPromotion'])\n",
        "df1[\"YearsSinceLastPromotion\"] = np.where(df_HR[\"YearsSinceLastPromotion\"] >y, y,df_HR['YearsSinceLastPromotion'])\n",
        "print(df1['YearsSinceLastPromotion'].skew())\n",
        "print(df1['YearsSinceLastPromotion'].describe())"
      ],
      "execution_count": null,
      "outputs": []
    },
    {
      "cell_type": "code",
      "metadata": {
        "id": "kTDWPUyB3Dsu",
        "colab_type": "code",
        "colab": {}
      },
      "source": [
        "x = df_HR['YearsWithCurrManager'].quantile(0.1)\n",
        "y = df_HR['YearsWithCurrManager'].quantile(0.98)\n",
        "df1[\"YearsWithCurrManager\"] = np.where(df_HR[\"YearsWithCurrManager\"] <x, x,df_HR['YearsWithCurrManager'])\n",
        "df1[\"YearsWithCurrManager\"] = np.where(df_HR[\"YearsWithCurrManager\"] >y, y,df_HR['YearsWithCurrManager'])\n",
        "print(df1['YearsWithCurrManager'].skew())\n",
        "print(df1['YearsWithCurrManager'].describe())"
      ],
      "execution_count": null,
      "outputs": []
    },
    {
      "cell_type": "code",
      "metadata": {
        "id": "UG567QZE3DlV",
        "colab_type": "code",
        "colab": {}
      },
      "source": [
        "y = df_HR['StockOptionLevel'].quantile(0.92)\n",
        "df1[\"StockOptionLevel\"] = np.where(df_HR[\"StockOptionLevel\"] >y, y,df_HR['StockOptionLevel'])\n",
        "print(df1['StockOptionLevel'].skew())\n",
        "print(df1['StockOptionLevel'].describe())"
      ],
      "execution_count": null,
      "outputs": []
    },
    {
      "cell_type": "code",
      "metadata": {
        "id": "-jUZ9JQt4GkR",
        "colab_type": "code",
        "colab": {}
      },
      "source": [
        "num1 = ['Age','DailyRate','DistanceFromHome','Education','EnvironmentSatisfaction','HourlyRate','JobInvolvement','MonthlyIncome','MonthlyRate','NumCompaniesWorked','PercentSalaryHike','TotalWorkingYears','TrainingTimesLastYear','YearsAtCompany','WorkLifeBalance','YearsInCurrentRole','YearsSinceLastPromotion','YearsWithCurrManager']"
      ],
      "execution_count": null,
      "outputs": []
    },
    {
      "cell_type": "code",
      "metadata": {
        "id": "BZQCtCQL4shA",
        "colab_type": "code",
        "colab": {}
      },
      "source": [
        "for i in num1:\n",
        "    sns.boxplot(y = df1[i],x = df1['Target'])\n",
        "    plt.show()"
      ],
      "execution_count": null,
      "outputs": []
    },
    {
      "cell_type": "code",
      "metadata": {
        "id": "C-iw9izqU7RK",
        "colab_type": "code",
        "colab": {}
      },
      "source": [
        "#df_HR.drop(['EmployeeCount','StandardHours'],axis=1,inplace = True)"
      ],
      "execution_count": null,
      "outputs": []
    },
    {
      "cell_type": "markdown",
      "metadata": {
        "id": "VXARQtj17vjp",
        "colab_type": "text"
      },
      "source": [
        "**Correlation**"
      ]
    },
    {
      "cell_type": "markdown",
      "metadata": {
        "id": "4jtZ5fT0TWxT",
        "colab_type": "text"
      },
      "source": [
        "correlation coefficients only measure linear correlations."
      ]
    },
    {
      "cell_type": "code",
      "metadata": {
        "id": "0bI277L88I7T",
        "colab_type": "code",
        "colab": {}
      },
      "source": [
        "# Calculate correlations\n",
        "corr = df_HR.corr()\n",
        "mask = np.zeros_like(corr)\n",
        "mask[np.triu_indices_from(mask)] = True\n",
        "# Heatmap\n",
        "plt.figure(figsize=(15, 10))\n",
        "sns.heatmap(corr,\n",
        "            vmax=.5,\n",
        "            mask=mask,\n",
        "            # annot=True, fmt='.2f',\n",
        "            linewidths=.2, cmap=\"RdYlGn\")"
      ],
      "execution_count": null,
      "outputs": []
    },
    {
      "cell_type": "markdown",
      "metadata": {
        "id": "8un6zmA9TbwX",
        "colab_type": "text"
      },
      "source": [
        "\"Monthly Rate\", \"Number of Companies Worked\" and \"Distance From Home\" are positively correlated to Attrition;\n",
        "while \"Total Working Years\", \"Job Level\", and \"Years In Current Role\" are negatively correlated to Attrition."
      ]
    },
    {
      "cell_type": "markdown",
      "metadata": {
        "id": "sAhukSc39lpw",
        "colab_type": "text"
      },
      "source": [
        "**Data Pre-processing**"
      ]
    },
    {
      "cell_type": "code",
      "metadata": {
        "id": "ZpTSiqta9ZVr",
        "colab_type": "code",
        "colab": {}
      },
      "source": [
        "from sklearn.preprocessing import LabelEncoder, OneHotEncoder\n",
        "# Create a label encoder object\n",
        "le = LabelEncoder()"
      ],
      "execution_count": null,
      "outputs": []
    },
    {
      "cell_type": "markdown",
      "metadata": {
        "id": "w-idCZ_3DGtq",
        "colab_type": "text"
      },
      "source": [
        "Perform Label Encoding\n"
      ]
    },
    {
      "cell_type": "code",
      "metadata": {
        "id": "Nbqxy1GdDLfT",
        "colab_type": "code",
        "colab": {}
      },
      "source": [
        "print(df_HR.shape)\n",
        "df_HR.head()"
      ],
      "execution_count": null,
      "outputs": []
    },
    {
      "cell_type": "code",
      "metadata": {
        "id": "hjpo5m4lDQVB",
        "colab_type": "code",
        "colab": {}
      },
      "source": [
        "# Label Encoding will be used for columns with 2 or less unique values\n",
        "le_count = 0\n",
        "for col in df_HR.columns[1:]:\n",
        "    if df_HR[col].dtype == 'object':\n",
        "        if len(list(df_HR[col].unique())) <= 2:\n",
        "            le.fit(df_HR[col])\n",
        "            df_HR[col] = le.transform(df_HR[col])\n",
        "            le_count += 1\n",
        "print('{} columns were label encoded.'.format(le_count))"
      ],
      "execution_count": null,
      "outputs": []
    },
    {
      "cell_type": "code",
      "metadata": {
        "id": "WMOx1YvXDWBv",
        "colab_type": "code",
        "colab": {}
      },
      "source": [
        "# convert rest of categorical variable into dummy\n",
        "df_HR = pd.get_dummies(df_HR, drop_first=True)"
      ],
      "execution_count": null,
      "outputs": []
    },
    {
      "cell_type": "code",
      "metadata": {
        "id": "2OlF5_G_hnBi",
        "colab_type": "code",
        "colab": {}
      },
      "source": [
        "df_HR.drop('Target',axis=1,inplace = True)"
      ],
      "execution_count": null,
      "outputs": []
    },
    {
      "cell_type": "code",
      "metadata": {
        "id": "rvbPCSDtDY1p",
        "colab_type": "code",
        "colab": {}
      },
      "source": [
        "print(df_HR.shape)\n",
        "df_HR.head()"
      ],
      "execution_count": null,
      "outputs": []
    },
    {
      "cell_type": "code",
      "metadata": {
        "id": "I6Ai-WBoxXvb",
        "colab_type": "code",
        "colab": {}
      },
      "source": [
        "df_HR.shape"
      ],
      "execution_count": null,
      "outputs": []
    },
    {
      "cell_type": "markdown",
      "metadata": {
        "id": "r8Ni1tRDDfWA",
        "colab_type": "text"
      },
      "source": [
        "Feature Scaling"
      ]
    },
    {
      "cell_type": "code",
      "metadata": {
        "id": "a2FNTdT5Delh",
        "colab_type": "code",
        "colab": {}
      },
      "source": [
        "# import MinMaxScaler\n",
        "from sklearn.preprocessing import MinMaxScaler\n",
        "scaler = MinMaxScaler(feature_range=(0, 5))\n",
        "HR_col = list(df_HR.columns)\n",
        "HR_col.remove('Attrition')\n",
        "for col in HR_col:\n",
        "    df_HR[col] = df_HR[col].astype(float)\n",
        "    df_HR[[col]] = scaler.fit_transform(df_HR[[col]])\n",
        "df_HR['Attrition'] = pd.to_numeric(df_HR['Attrition'], downcast='float')\n",
        "df_HR.head()"
      ],
      "execution_count": null,
      "outputs": []
    },
    {
      "cell_type": "code",
      "metadata": {
        "id": "P8SvCMeRH5in",
        "colab_type": "code",
        "colab": {}
      },
      "source": [
        "print('Size of Full Encoded Dataset: {}'. format(df_HR.shape))"
      ],
      "execution_count": null,
      "outputs": []
    },
    {
      "cell_type": "markdown",
      "metadata": {
        "id": "Gj1Tv69oH_6q",
        "colab_type": "text"
      },
      "source": [
        "Splitting data into training and testing sets"
      ]
    },
    {
      "cell_type": "code",
      "metadata": {
        "id": "LSLvlomyIApC",
        "colab_type": "code",
        "colab": {}
      },
      "source": [
        "# assign the target to a new dataframe and convert it to a numerical feature\n",
        "#df_target = df_HR[['Attrition']].copy()\n",
        "target = df_HR['Attrition'].copy()"
      ],
      "execution_count": null,
      "outputs": []
    },
    {
      "cell_type": "code",
      "metadata": {
        "id": "8wbomfLGyAJe",
        "colab_type": "code",
        "colab": {}
      },
      "source": [
        "df_HR.shape"
      ],
      "execution_count": null,
      "outputs": []
    },
    {
      "cell_type": "code",
      "metadata": {
        "id": "bheeKQUYypDo",
        "colab_type": "code",
        "colab": {}
      },
      "source": [
        "y = target\n",
        "#df_HR.drop('Attrition',axis=1,inplace = True)\n",
        "X = df_HR.iloc[:,2:]"
      ],
      "execution_count": null,
      "outputs": []
    },
    {
      "cell_type": "code",
      "metadata": {
        "id": "3F8gcQvWliKa",
        "colab_type": "code",
        "colab": {}
      },
      "source": [
        "X.head()\n",
        "X = pd.concat([df_HR.Age,X],axis=1)\n",
        "X.head()\n",
        "#X.drop(['EmployeeCount','StandardHours'],axis=1,inplace = True)"
      ],
      "execution_count": null,
      "outputs": []
    },
    {
      "cell_type": "code",
      "metadata": {
        "id": "zKFYu_YDtM6Y",
        "colab_type": "code",
        "colab": {}
      },
      "source": [
        "X.drop('Age',axis=1,inplace = True)"
      ],
      "execution_count": null,
      "outputs": []
    },
    {
      "cell_type": "code",
      "metadata": {
        "id": "LsvX5kG1tTP6",
        "colab_type": "code",
        "colab": {}
      },
      "source": [
        "X = pd.concat([df_HR.Age,X],axis=1)"
      ],
      "execution_count": null,
      "outputs": []
    },
    {
      "cell_type": "code",
      "metadata": {
        "id": "-rcMv7_dpD0h",
        "colab_type": "code",
        "colab": {}
      },
      "source": [
        "X.head()"
      ],
      "execution_count": null,
      "outputs": []
    },
    {
      "cell_type": "code",
      "metadata": {
        "id": "D_GHOjkzyo_h",
        "colab_type": "code",
        "colab": {}
      },
      "source": [
        "y.head()\n"
      ],
      "execution_count": null,
      "outputs": []
    },
    {
      "cell_type": "code",
      "metadata": {
        "id": "Opz0ZfnKILrP",
        "colab_type": "code",
        "colab": {}
      },
      "source": [
        "# Since we have class imbalance (i.e. more employees with turnover=0 than turnover=1)\n",
        "# let's use stratify=y to maintain the same ratio as in the training dataset when splitting the dataset\n",
        "X_train, X_test, y_train, y_test = train_test_split(X,\n",
        "                                                    y,\n",
        "                                                    test_size=0.2,\n",
        "                                                    random_state=0,\n",
        "                                                    stratify=target)  \n",
        "print(\"Number transactions X_train dataset: \", X_train.shape)\n",
        "print(\"Number transactions y_train dataset: \", y_train.shape)\n",
        "print(\"Number transactions X_test dataset: \", X_test.shape)\n",
        "print(\"Number transactions y_test dataset: \", y_test.shape)"
      ],
      "execution_count": null,
      "outputs": []
    },
    {
      "cell_type": "code",
      "metadata": {
        "id": "qrJjMV_9tkKy",
        "colab_type": "code",
        "colab": {}
      },
      "source": [
        "X_train.shape"
      ],
      "execution_count": null,
      "outputs": []
    },
    {
      "cell_type": "markdown",
      "metadata": {
        "id": "XKfJ3deUTwcw",
        "colab_type": "text"
      },
      "source": [
        "**Model 1: Random Forest Classifier**: \n",
        "Random Forest is a popular and versatile machine learning method that is capable of solving both regression and classification. Random Forest is a brand of Ensemble learning, as it relies on an ensemble of decision trees. It aggregates Classification (or Regression) Trees. A decision tree is composed of a series of decisions that can be used to classify an observation in a dataset.\n",
        "\n",
        "Random Forest fits a number of decision tree classifiers on various sub-samples of the dataset and use averaging to improve the predictive accuracy and control over-fitting. Random Forest can handle a large number of features, and is helpful for estimating which of your variables are important in the underlying data being modeled."
      ]
    },
    {
      "cell_type": "code",
      "metadata": {
        "id": "6ggtXFFE4S-l",
        "colab_type": "code",
        "colab": {}
      },
      "source": [
        "##Model 1: Random Forest Classifier\n",
        "from sklearn.ensemble import RandomForestClassifier"
      ],
      "execution_count": null,
      "outputs": []
    },
    {
      "cell_type": "code",
      "metadata": {
        "id": "yJ8WigoRDnhV",
        "colab_type": "code",
        "colab": {}
      },
      "source": [
        "clf = RandomForestClassifier(min_samples_leaf = 3)\n",
        "clf.fit(X_train,y_train)\n",
        "clf.feature_importances_"
      ],
      "execution_count": null,
      "outputs": []
    },
    {
      "cell_type": "code",
      "metadata": {
        "id": "alkajf4YD08Y",
        "colab_type": "code",
        "colab": {}
      },
      "source": [
        "#9:85.37 #11:85.38 29:85.38 27: 85.72\n",
        "\n",
        "clf.score(X_test,y_test)*100"
      ],
      "execution_count": null,
      "outputs": []
    },
    {
      "cell_type": "code",
      "metadata": {
        "id": "jOk6h1H8D1LM",
        "colab_type": "code",
        "colab": {}
      },
      "source": [
        "from sklearn.model_selection import cross_val_score\n",
        "score_rf = cross_val_score(clf,X,y)\n",
        "print('minimum score',min(score_rf))\n",
        "print('avergage',np.mean(score_rf))\n",
        "print('maximum',np.max(score_rf))"
      ],
      "execution_count": null,
      "outputs": []
    },
    {
      "cell_type": "code",
      "metadata": {
        "id": "hOhk6yow2NEs",
        "colab_type": "code",
        "colab": {}
      },
      "source": [
        "###Reports for train data\n",
        "from sklearn.metrics import classification_report,confusion_matrix\n",
        "print(classification_report(y_train,clf.predict(X_train)))\n",
        "print(confusion_matrix(y_train,clf.predict(X_train)))"
      ],
      "execution_count": null,
      "outputs": []
    },
    {
      "cell_type": "code",
      "metadata": {
        "id": "jlFwdhCMyQ9U",
        "colab_type": "code",
        "colab": {}
      },
      "source": [
        "##Reports for test data\n",
        "print(classification_report(y_test,clf.predict(X_test)))\n",
        "print(confusion_matrix(y_test,clf.predict(X_test)))"
      ],
      "execution_count": null,
      "outputs": []
    },
    {
      "cell_type": "code",
      "metadata": {
        "id": "7_ZgUAh1yxZA",
        "colab_type": "code",
        "colab": {}
      },
      "source": [
        ""
      ],
      "execution_count": null,
      "outputs": []
    },
    {
      "cell_type": "markdown",
      "metadata": {
        "id": "6oGZ3Mt7VCCW",
        "colab_type": "text"
      },
      "source": [
        "**Model 2: Support Vector Classifier**: \n",
        "A Support Vector Machine (SVM) is a discriminative classifier formally defined by a separating hyperplane. In other words, given labeled training data (supervised learning), the algorithm outputs an optimal hyperplane which categorizes new examples. In two dimentional space this hyperplane is a line dividing a plane in two parts where in each class lay in either side."
      ]
    },
    {
      "cell_type": "code",
      "metadata": {
        "id": "zhepW90gzo1Z",
        "colab_type": "code",
        "colab": {}
      },
      "source": [
        "##Model 2:Support Vector Classifier\n",
        "from sklearn.svm import SVC\n",
        "clf2 = SVC(C = 2,gamma = 0.01)\n",
        "clf2.fit(X_train,y_train)\n",
        "clf2.score(X_test,y_test)"
      ],
      "execution_count": null,
      "outputs": []
    },
    {
      "cell_type": "code",
      "metadata": {
        "id": "LtAF6WpNuzgC",
        "colab_type": "code",
        "colab": {}
      },
      "source": [
        "from sklearn.model_selection import GridSearchCV\n",
        "params_svc = {'C':list(np.arange(1,10)),'gamma':[0.1,0.2,0.3,0.4,0.5,0.6,0.7,0.8,0.9,0.01,0.02,0.04]}\n",
        "\n",
        "clfcv = GridSearchCV(clf2,params_svc)\n",
        "clfcv.fit(X,y)\n",
        "print(clfcv.best_params_)"
      ],
      "execution_count": null,
      "outputs": []
    },
    {
      "cell_type": "code",
      "metadata": {
        "id": "-scAWNxaL7Nx",
        "colab_type": "code",
        "colab": {}
      },
      "source": [
        "from sklearn.model_selection import cross_val_score\n",
        "score_rf1 = cross_val_score(clf2,X,y)\n",
        "print('minimum score',min(score_rf1))\n",
        "print('avergage',np.mean(score_rf1))\n",
        "print('maximum',np.max(score_rf1))"
      ],
      "execution_count": null,
      "outputs": []
    },
    {
      "cell_type": "code",
      "metadata": {
        "id": "qnARODBa1R3Y",
        "colab_type": "code",
        "colab": {}
      },
      "source": [
        "print(classification_report(y_train,clf2.predict(X_train)))\n",
        "print(confusion_matrix(y_train,clf2.predict(X_train)))"
      ],
      "execution_count": null,
      "outputs": []
    },
    {
      "cell_type": "code",
      "metadata": {
        "id": "lBdcJjkPzoxH",
        "colab_type": "code",
        "colab": {}
      },
      "source": [
        "print(classification_report(y_test,clf2.predict(X_test)))\n",
        "print(confusion_matrix(y_test,clf2.predict(X_test)))"
      ],
      "execution_count": null,
      "outputs": []
    },
    {
      "cell_type": "markdown",
      "metadata": {
        "id": "827U6Ko0Vvzz",
        "colab_type": "text"
      },
      "source": [
        "**Model 3: Logistic Regression**: \n",
        "Logistic Regression is a Machine Learning classification algorithm that is used to predict the probability of a categorical dependent variable. Logistic Regression is classification algorithm that is not as sophisticated as the ensemble methods or boosted decision trees method discussed below. Hence, it provides us with a good benchmark."
      ]
    },
    {
      "cell_type": "code",
      "metadata": {
        "id": "5NUNc77H0ZRu",
        "colab_type": "code",
        "colab": {}
      },
      "source": [
        "from sklearn.linear_model import LogisticRegression\n",
        "clf3 = LogisticRegression()\n",
        "clf3.fit(X_train,y_train)\n",
        "pred3 = clf3.predict(X_test)"
      ],
      "execution_count": null,
      "outputs": []
    },
    {
      "cell_type": "code",
      "metadata": {
        "id": "KelRPejD0Zgq",
        "colab_type": "code",
        "colab": {}
      },
      "source": [
        "from sklearn.model_selection import cross_val_score\n",
        "scores = cross_val_score(clf3,X,y,cv=10)\n",
        "print(min(scores))\n",
        "print(np.mean(scores))\n",
        "print(max(scores))"
      ],
      "execution_count": null,
      "outputs": []
    },
    {
      "cell_type": "code",
      "metadata": {
        "id": "4BODkf3X0lWM",
        "colab_type": "code",
        "colab": {}
      },
      "source": [
        "print(classification_report(y_train,clf3.predict(X_train)))\n",
        "print(confusion_matrix(y_train,clf3.predict(X_train)))"
      ],
      "execution_count": null,
      "outputs": []
    },
    {
      "cell_type": "code",
      "metadata": {
        "id": "m3uiRjhoCeeb",
        "colab_type": "code",
        "colab": {}
      },
      "source": [
        "print(classification_report(y_test,clf3.predict(X_test)))\n",
        "print(confusion_matrix(y_test,clf3.predict(X_test)))"
      ],
      "execution_count": null,
      "outputs": []
    },
    {
      "cell_type": "markdown",
      "metadata": {
        "id": "VYbAj9fqWpSh",
        "colab_type": "text"
      },
      "source": [
        "**Model 4: KNeighbors Classifier**: \n",
        "The intuition behind the KNN algorithm is one of the simplest of all the supervised machine learning algorithms. It calculates the distance of a new data point to all other training data points. The distance can be of any type e.g Euclidean or Manhattan etc. It then selects the K-nearest data points, where K can be any integer. Finally it assigns the data point to the class to which the majority of the K data points belong."
      ]
    },
    {
      "cell_type": "code",
      "metadata": {
        "id": "TChcsXLyM18l",
        "colab_type": "code",
        "colab": {}
      },
      "source": [
        "from sklearn.neighbors import KNeighborsClassifier\n",
        "clf4 = KNeighborsClassifier(n_neighbors = 2)\n",
        "clf4.fit(X_train,y_train)\n"
      ],
      "execution_count": null,
      "outputs": []
    },
    {
      "cell_type": "code",
      "metadata": {
        "id": "EHq774JwNt9z",
        "colab_type": "code",
        "colab": {}
      },
      "source": [
        "from sklearn.model_selection import cross_val_score\n",
        "scores_clf4 = cross_val_score(clf4,X,y,cv=10)\n",
        "print(min(scores_clf4))\n",
        "print(np.mean(scores_clf4))\n",
        "print(max(scores_clf4))"
      ],
      "execution_count": null,
      "outputs": []
    },
    {
      "cell_type": "code",
      "metadata": {
        "id": "RYenBSm9wc0j",
        "colab_type": "code",
        "colab": {}
      },
      "source": [
        "print(classification_report(y_train,clf4.predict(X_train)))\n",
        "print(confusion_matrix(y_train,clf4.predict(X_train)))"
      ],
      "execution_count": null,
      "outputs": []
    },
    {
      "cell_type": "code",
      "metadata": {
        "id": "QgGlOfHwBOM6",
        "colab_type": "code",
        "colab": {}
      },
      "source": [
        "print(classification_report(y_test,clf4.predict(X_test)))\n",
        "print(confusion_matrix(y_test,clf4.predict(X_test)))"
      ],
      "execution_count": null,
      "outputs": []
    },
    {
      "cell_type": "markdown",
      "metadata": {
        "id": "cvmPnU7qXJdH",
        "colab_type": "text"
      },
      "source": [
        "**Model 5: XGB Classifier:** \n",
        "The implementation of the algorithm was engineered for efficiency of compute time and memory resources. A design goal was to make the best use of available resources to train the model. XGBoost is an implementation of gradient boosted decision trees designed for speed and performance."
      ]
    },
    {
      "cell_type": "code",
      "metadata": {
        "id": "xT1MMZtG3lsK",
        "colab_type": "code",
        "colab": {}
      },
      "source": [
        "##Model 5: XGB Classifier\n",
        "from xgboost import XGBClassifier\n",
        "clf5 = XGBClassifier(max_depth = 9)\n",
        "clf5.fit(X_train,y_train)\n"
      ],
      "execution_count": null,
      "outputs": []
    },
    {
      "cell_type": "code",
      "metadata": {
        "id": "TT2RYQio4k8m",
        "colab_type": "code",
        "colab": {}
      },
      "source": [
        "scores_xg  = cross_val_score(clf5,X,y,cv=10)\n",
        "print(min(scores_xg))\n",
        "print(np.mean(scores_xg))\n",
        "print(max(scores_xg))"
      ],
      "execution_count": null,
      "outputs": []
    },
    {
      "cell_type": "code",
      "metadata": {
        "id": "EBEtTfkfX5Ta",
        "colab_type": "code",
        "colab": {}
      },
      "source": [
        "print(classification_report(y_train,clf5.predict(X_train)))\n"
      ],
      "execution_count": null,
      "outputs": []
    },
    {
      "cell_type": "code",
      "metadata": {
        "id": "iPlNVkgx39LM",
        "colab_type": "code",
        "colab": {}
      },
      "source": [
        "print(clf5.score(X_test,y_test))\n",
        "print(classification_report(y_test,clf5.predict(X_test)))\n",
        "print(confusion_matrix(y_test,clf5.predict(X_test)))"
      ],
      "execution_count": null,
      "outputs": []
    },
    {
      "cell_type": "markdown",
      "metadata": {
        "id": "Op5Qniwq3wwV",
        "colab_type": "text"
      },
      "source": [
        "**Model 6: Naive Bayes:** Naive Bayes classifiers are a collection of classification algorithms based on Bayes’ Theorem. It is not a single algorithm but a family of algorithms where all of them share a common principle, i.e. every pair of features being classified is independent of each other."
      ]
    },
    {
      "cell_type": "code",
      "metadata": {
        "id": "t6Ioy48Vy0GU",
        "colab_type": "code",
        "colab": {}
      },
      "source": [
        "##Model 6:Naive bayes\n",
        "from sklearn.naive_bayes import MultinomialNB\n",
        "clf6 = MultinomialNB(alpha = 9)\n",
        "clf6.fit(X_train,y_train)\n"
      ],
      "execution_count": null,
      "outputs": []
    },
    {
      "cell_type": "code",
      "metadata": {
        "id": "sCK7aAs-zb8M",
        "colab_type": "code",
        "colab": {}
      },
      "source": [
        "params_nb = {'alpha':list(np.arange(1,10))}\n",
        "\n",
        "clf_nb = GridSearchCV(clf6,params_nb)\n",
        "clf_nb.fit(X_train,y_train)\n",
        "print(clf_nb.best_params_)\n",
        "print(clf_nb.best_score_)"
      ],
      "execution_count": null,
      "outputs": []
    },
    {
      "cell_type": "code",
      "metadata": {
        "id": "v0VDjStnzFfr",
        "colab_type": "code",
        "colab": {}
      },
      "source": [
        "print(classification_report(y_train,clf6.predict(X_train)))\n",
        "print(confusion_matrix(y_train,clf6.predict(X_train)))"
      ],
      "execution_count": null,
      "outputs": []
    },
    {
      "cell_type": "code",
      "metadata": {
        "id": "Li9NPsuXzCRY",
        "colab_type": "code",
        "colab": {}
      },
      "source": [
        "print(classification_report(y_test,clf6.predict(X_test)))\n",
        "print(confusion_matrix(y_test,clf6.predict(X_test)))"
      ],
      "execution_count": null,
      "outputs": []
    }
  ]
}